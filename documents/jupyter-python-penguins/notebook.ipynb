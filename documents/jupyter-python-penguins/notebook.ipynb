{
 "cells": [
  {
   "cell_type": "markdown",
   "id": "31d4b7db-27d6-4afe-a615-458a67a4a159",
   "metadata": {},
   "source": [
    "# Meeting the penguins"
   ]
  },
  {
   "cell_type": "code",
   "execution_count": null,
   "id": "25106432-e0f3-4303-8e63-9e74fbe33c6f",
   "metadata": {},
   "outputs": [],
   "source": [
    "import pandas as pd"
   ]
  },
  {
   "cell_type": "code",
   "execution_count": null,
   "id": "fba126cc-ab06-4398-a354-b9f30c1fb037",
   "metadata": {},
   "outputs": [],
   "source": [
    "url = \"https://raw.githubusercontent.com/allisonhorst/palmerpenguins/main/inst/extdata/penguins.csv\"\n",
    "data = pd.read_csv(url)\n",
    "data"
   ]
  },
  {
   "cell_type": "code",
   "execution_count": null,
   "id": "d1e9e4fc-4a56-4bf7-a205-f7394b388227",
   "metadata": {},
   "outputs": [],
   "source": [
    "data.plot.scatter(x='bill_length_mm', y='bill_depth_mm');"
   ]
  }
 ],
 "metadata": {
  "kernelspec": {
   "display_name": "demo-jupyter-python-penguins-3-10-4",
   "language": "python",
   "name": "demo-jupyter-python-penguins-3-10-4"
  },
  "language_info": {
   "codemirror_mode": {
    "name": "ipython",
    "version": 3
   },
   "file_extension": ".py",
   "mimetype": "text/x-python",
   "name": "python",
   "nbconvert_exporter": "python",
   "pygments_lexer": "ipython3",
   "version": "3.10.4"
  }
 },
 "nbformat": 4,
 "nbformat_minor": 5
}
